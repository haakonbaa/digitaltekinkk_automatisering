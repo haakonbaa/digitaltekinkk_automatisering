{
 "cells": [
  {
   "cell_type": "markdown",
   "metadata": {},
   "source": [
    "# Kort intro til digtek-modulen\n",
    "\n",
    "## Importer modulen"
   ]
  },
  {
   "cell_type": "code",
   "execution_count": 1,
   "metadata": {},
   "outputs": [],
   "source": [
    "from digtek import *"
   ]
  },
  {
   "cell_type": "markdown",
   "metadata": {},
   "source": [
    "## 1 Funskjoner\n",
    "Digtek-modulen introduserer en BolskFunskjon ( \\<BoolFunction\\> ) type i python. Disse funskjonene kan defineres på forskjellige måter og brukes nesten på samme måte som vanlige funskjoner. I tilegg har bolske funskjoner spesielle egenskaper som gjør at de egnes godt til å regne med i mange 'digitalteknikk' sammenhenger. Det finnes tre forskjellige bolske funskjoner med hver sin måte å definere de på: <br><br>\n",
    "**1.1 Lambda-Funskjoner**<br>\n",
    "Lambdafunksjoner defineres på følgende måte:"
   ]
  },
  {
   "cell_type": "code",
   "execution_count": 2,
   "metadata": {},
   "outputs": [],
   "source": [
    "foo = LambdaFunction(lambda a,b,c: a and b or c and b)"
   ]
  },
  {
   "cell_type": "markdown",
   "metadata": {},
   "source": [
    "**1.2 Minterm-Funksjoner**<br>\n",
    "Mintermfunskjoner defineres ved en tuple/liste/set med mintermer etterfulgt av hvor mange variabler funksjonen har. For eksempel kan en 4-variabel-minterm-funksjon defineres på følgende måte:"
   ]
  },
  {
   "cell_type": "code",
   "execution_count": 3,
   "metadata": {},
   "outputs": [],
   "source": [
    "bar = MintermFunction((6,7,9),4)"
   ]
  },
  {
   "cell_type": "markdown",
   "metadata": {},
   "source": [
    "**1.3 Maksterm-Funksjoner**<br>\n",
    "Makstermfunskjoner defineres på akkurat samme måte som en mintermfunskjon, bare at nå definerer vi makstermene i stede for mintermene:"
   ]
  },
  {
   "cell_type": "code",
   "execution_count": 4,
   "metadata": {},
   "outputs": [],
   "source": [
    "baz = MaxtermFunction((3,4),4)"
   ]
  },
  {
   "cell_type": "markdown",
   "metadata": {},
   "source": [
    "**1.4 Nyttig om bolske-funskjoner**<br>\n",
    "Det er mulig å printe bolske funksjoner på en fin måte. Da brukes *print()*-funskjonen:"
   ]
  },
  {
   "cell_type": "code",
   "execution_count": 5,
   "metadata": {},
   "outputs": [
    {
     "data": {
      "text/html": [
       "$F(x,y,z,w) = \\Sigma(9,6,7) = \\bar{x}yz\\bar{w}+\\bar{x}yzw+x\\bar{y}\\bar{z}w$"
      ],
      "text/plain": [
       "<IPython.core.display.HTML object>"
      ]
     },
     "metadata": {},
     "output_type": "display_data"
    },
    {
     "data": {
      "text/html": [
       "$F(x,y,z,w) = \\Pi(3,4) = (x+y+\\bar{z}+\\bar{w})(x+\\bar{y}+z+w)$"
      ],
      "text/plain": [
       "<IPython.core.display.HTML object>"
      ]
     },
     "metadata": {},
     "output_type": "display_data"
    }
   ],
   "source": [
    "print(bar)\n",
    "print(baz)"
   ]
  },
  {
   "cell_type": "markdown",
   "metadata": {},
   "source": [
    "de bolske-funksjonene har også en innebygd *print()*-funskjon som kan printe med egendefinerte vedier både for variabler og funskjonsnavn. Her er det verdt å merke seg at også *LaTeX* verdier aksepteres som funskjons- og variabel-navn! "
   ]
  },
  {
   "cell_type": "code",
   "execution_count": 6,
   "metadata": {},
   "outputs": [
    {
     "data": {
      "text/html": [
       "$\\Upsilon(\\alpha,\\beta,\\gamma,\\delta) = \\Sigma(9,6,7) = \\bar{\\alpha}\\beta\\gamma\\bar{\\delta}+\\bar{\\alpha}\\beta\\gamma\\delta+\\alpha\\bar{\\beta}\\bar{\\gamma}\\delta$"
      ],
      "text/plain": [
       "<IPython.core.display.HTML object>"
      ]
     },
     "metadata": {},
     "output_type": "display_data"
    },
    {
     "data": {
      "text/html": [
       "$FoObAr(a,b,x,y) = \\Pi(3,4) = (a+b+\\bar{x}+\\bar{y})(a+\\bar{b}+x+y)$"
      ],
      "text/plain": [
       "<IPython.core.display.HTML object>"
      ]
     },
     "metadata": {},
     "output_type": "display_data"
    }
   ],
   "source": [
    "bar.print(name=\"\\\\Upsilon\",var=(\"\\\\alpha\",\"\\\\beta\",\"\\\\gamma\",\"\\\\delta\"))\n",
    "baz.print(name=\"FoObAr\",var=\"abxy\")"
   ]
  },
  {
   "cell_type": "markdown",
   "metadata": {},
   "source": [
    "Men! Funskjoner er jo ikke til bare for å se pene ut, vi kan også, som nevnt, bruke funskjonene som vanlige python-funskjoner. Her er det også mulig å sammenligne to funskjoner for å se om de er like/ulike. Dette kan komme godt med på eksamen!"
   ]
  },
  {
   "cell_type": "code",
   "execution_count": 7,
   "metadata": {},
   "outputs": [
    {
     "data": {
      "text/html": [
       "0"
      ],
      "text/plain": [
       "<IPython.core.display.HTML object>"
      ]
     },
     "metadata": {},
     "output_type": "display_data"
    },
    {
     "data": {
      "text/html": [
       "0"
      ],
      "text/plain": [
       "<IPython.core.display.HTML object>"
      ]
     },
     "metadata": {},
     "output_type": "display_data"
    },
    {
     "data": {
      "text/html": [
       "False"
      ],
      "text/plain": [
       "<IPython.core.display.HTML object>"
      ]
     },
     "metadata": {},
     "output_type": "display_data"
    }
   ],
   "source": [
    "print( foo(1,0,1) )\n",
    "print( bar(*(1,1,0,0)) )\n",
    "print( foo == bar )"
   ]
  },
  {
   "cell_type": "markdown",
   "metadata": {},
   "source": [
    "Sterkheten til disse funskjonene kommer i form av metodene/funskjonene man kan bruke på de, som fører oss til neste del:\n",
    "# 2 Innebygde metoder/funskjoner"
   ]
  },
  {
   "cell_type": "markdown",
   "metadata": {},
   "source": [
    "**2.1 sannhetstabeller**<br>\n",
    "Det er mulig å printe sannhetstabellen til en eller flere funskjoner ved å bruke funksjonen '*table()*'. For å sammenligne flere funskjoner kan man kalle funskjonen med flere **boolFunctions** som argumenter."
   ]
  },
  {
   "cell_type": "code",
   "execution_count": 8,
   "metadata": {},
   "outputs": [
    {
     "data": {
      "text/html": [
       "<table><tr><th>x</th><th>y</th><th>z</th><th>w</th><th style=\"width: 10px;text-align:center;\">$F_0$</th><th style=\"width: 10px;text-align:center;\">$F_1$</th></tr><tr><th>0</th><th>0</th><th>0</th><th>0</th><th>0</th><th>1</th></tr>\n",
       "<tr><th>0</th><th>0</th><th>0</th><th>1</th><th>0</th><th>1</th></tr>\n",
       "<tr><th>0</th><th>0</th><th>1</th><th>0</th><th>0</th><th>1</th></tr>\n",
       "<tr><th>0</th><th>0</th><th>1</th><th>1</th><th>0</th><th>0</th></tr>\n",
       "<tr><th>0</th><th>1</th><th>0</th><th>0</th><th>0</th><th>0</th></tr>\n",
       "<tr><th>0</th><th>1</th><th>0</th><th>1</th><th>0</th><th>1</th></tr>\n",
       "<tr><th>0</th><th>1</th><th>1</th><th>0</th><th>1</th><th>1</th></tr>\n",
       "<tr><th>0</th><th>1</th><th>1</th><th>1</th><th>1</th><th>1</th></tr>\n",
       "<tr><th>1</th><th>0</th><th>0</th><th>0</th><th>0</th><th>1</th></tr>\n",
       "<tr><th>1</th><th>0</th><th>0</th><th>1</th><th>1</th><th>1</th></tr>\n",
       "<tr><th>1</th><th>0</th><th>1</th><th>0</th><th>0</th><th>1</th></tr>\n",
       "<tr><th>1</th><th>0</th><th>1</th><th>1</th><th>0</th><th>1</th></tr>\n",
       "<tr><th>1</th><th>1</th><th>0</th><th>0</th><th>0</th><th>1</th></tr>\n",
       "<tr><th>1</th><th>1</th><th>0</th><th>1</th><th>0</th><th>1</th></tr>\n",
       "<tr><th>1</th><th>1</th><th>1</th><th>0</th><th>0</th><th>1</th></tr>\n",
       "<tr><th>1</th><th>1</th><th>1</th><th>1</th><th>0</th><th>1</th></tr>\n",
       "</table>"
      ],
      "text/plain": [
       "<IPython.core.display.HTML object>"
      ]
     },
     "metadata": {},
     "output_type": "display_data"
    }
   ],
   "source": [
    "table(bar,baz)"
   ]
  },
  {
   "cell_type": "markdown",
   "metadata": {},
   "source": [
    "**2.2 karnaugh-diagram** <br>\n",
    "Karnaugh-diagram kan enkelt tegnes ved hjelp av 'karnaugh()'-funskjonen. Som argumenter tar denne funskjonen en bolsk-funskjon, og eventuellt variabelnavn:"
   ]
  },
  {
   "cell_type": "code",
   "execution_count": 1,
   "metadata": {},
   "outputs": [
    {
     "ename": "NameError",
     "evalue": "name 'LambdaFunction' is not defined",
     "output_type": "error",
     "traceback": [
      "\u001b[1;31m---------------------------------------------------------------------------\u001b[0m",
      "\u001b[1;31mNameError\u001b[0m                                 Traceback (most recent call last)",
      "\u001b[1;32m<ipython-input-1-5f242bbf0e3e>\u001b[0m in \u001b[0;36m<module>\u001b[1;34m\u001b[0m\n\u001b[1;32m----> 1\u001b[1;33m \u001b[0ma\u001b[0m \u001b[1;33m=\u001b[0m \u001b[0mLambdaFunction\u001b[0m\u001b[1;33m(\u001b[0m\u001b[1;32mlambda\u001b[0m \u001b[0mx\u001b[0m\u001b[1;33m,\u001b[0m\u001b[0my\u001b[0m\u001b[1;33m,\u001b[0m\u001b[0mz\u001b[0m\u001b[1;33m,\u001b[0m\u001b[0mw\u001b[0m\u001b[1;33m,\u001b[0m\u001b[0mu\u001b[0m\u001b[1;33m,\u001b[0m\u001b[0mv\u001b[0m\u001b[1;33m:\u001b[0m \u001b[0mx\u001b[0m \u001b[1;32mand\u001b[0m \u001b[0my\u001b[0m \u001b[1;32mand\u001b[0m \u001b[0mz\u001b[0m \u001b[1;32mand\u001b[0m \u001b[0mw\u001b[0m \u001b[1;32mor\u001b[0m \u001b[1;32mnot\u001b[0m \u001b[0mx\u001b[0m \u001b[1;32mand\u001b[0m \u001b[0my\u001b[0m \u001b[1;32mand\u001b[0m \u001b[0mv\u001b[0m \u001b[1;32mand\u001b[0m \u001b[0mw\u001b[0m\u001b[1;33m)\u001b[0m\u001b[1;33m\u001b[0m\u001b[1;33m\u001b[0m\u001b[0m\n\u001b[0m\u001b[0;32m      2\u001b[0m \u001b[0mkarnaugh\u001b[0m\u001b[1;33m(\u001b[0m\u001b[0ma\u001b[0m\u001b[1;33m,\u001b[0m\u001b[0mvar\u001b[0m\u001b[1;33m=\u001b[0m\u001b[1;34m\"xyzwuv\"\u001b[0m\u001b[1;33m)\u001b[0m\u001b[1;33m\u001b[0m\u001b[1;33m\u001b[0m\u001b[0m\n",
      "\u001b[1;31mNameError\u001b[0m: name 'LambdaFunction' is not defined"
     ]
    }
   ],
   "source": [
    "a = LambdaFunction(lambda x,y,z,w,u,v: x and y and z and w or not x and y and v and w)\n",
    "karnaugh(a,var=\"xyzwuv\")"
   ]
  }
 ],
 "metadata": {
  "kernelspec": {
   "display_name": "Python 3",
   "language": "python",
   "name": "python3"
  },
  "language_info": {
   "codemirror_mode": {
    "name": "ipython",
    "version": 3
   },
   "file_extension": ".py",
   "mimetype": "text/x-python",
   "name": "python",
   "nbconvert_exporter": "python",
   "pygments_lexer": "ipython3",
   "version": "3.8.5"
  }
 },
 "nbformat": 4,
 "nbformat_minor": 4
}
